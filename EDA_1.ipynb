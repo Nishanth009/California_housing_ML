{
 "cells": [
  {
   "cell_type": "code",
   "execution_count": 1,
   "metadata": {
    "collapsed": true
   },
   "outputs": [],
   "source": [
    "import pandas as pd\n",
    "import numpy as np\n",
    "import matplotlib as plt\n",
    "%matplotlib inline"
   ]
  },
  {
   "cell_type": "code",
   "execution_count": 33,
   "metadata": {
    "collapsed": true
   },
   "outputs": [],
   "source": [
    "data = pd.read_csv(\"/home/nishanth/tensorflow/california_housing/cal_housing.csv\", header=None)\n",
    "headers = open(\"/home/nishanth/tensorflow/california_housing/cal_housing.txt\", \"r\")"
   ]
  },
  {
   "cell_type": "markdown",
   "metadata": {},
   "source": [
    "Step 1: Getting familiar with the dataset\n",
    "--------------------------------------------------"
   ]
  },
  {
   "cell_type": "code",
   "execution_count": 34,
   "metadata": {},
   "outputs": [
    {
     "name": "stdout",
     "output_type": "stream",
     "text": [
      "['longitude: continuous.\\n', 'latitude: continuous.\\n', 'housingMedianAge: continuous. \\n', 'totalRooms: continuous. \\n', 'totalBedrooms: continuous. \\n', 'population: continuous. \\n', 'households: continuous. \\n', 'medianIncome: continuous. \\n', 'medianHouseValue: continuous. \\n']\n",
      "-----------------------------------------------------------------------------------------------\n",
      "        0      1     2       3       4       5       6       7         8\n",
      "0 -122.23  37.88  41.0   880.0   129.0   322.0   126.0  8.3252  452600.0\n",
      "1 -122.22  37.86  21.0  7099.0  1106.0  2401.0  1138.0  8.3014  358500.0\n",
      "2 -122.24  37.85  52.0  1467.0   190.0   496.0   177.0  7.2574  352100.0\n",
      "3 -122.25  37.85  52.0  1274.0   235.0   558.0   219.0  5.6431  341300.0\n",
      "4 -122.25  37.85  52.0  1627.0   280.0   565.0   259.0  3.8462  342200.0\n",
      "5 -122.25  37.85  52.0   919.0   213.0   413.0   193.0  4.0368  269700.0\n",
      "6 -122.25  37.84  52.0  2535.0   489.0  1094.0   514.0  3.6591  299200.0\n",
      "7 -122.25  37.84  52.0  3104.0   687.0  1157.0   647.0  3.1200  241400.0\n",
      "8 -122.26  37.84  42.0  2555.0   665.0  1206.0   595.0  2.0804  226700.0\n",
      "9 -122.25  37.84  52.0  3549.0   707.0  1551.0   714.0  3.6912  261100.0\n"
     ]
    }
   ],
   "source": [
    "headers = headers.readlines()\n",
    "print headers\n",
    "print \"-----------------------------------------------------------------------------------------------\"\n",
    "print data.head(10)"
   ]
  },
  {
   "cell_type": "code",
   "execution_count": 35,
   "metadata": {},
   "outputs": [
    {
     "name": "stdout",
     "output_type": "stream",
     "text": [
      "   longitude  latitude  housingMedianAge  totalRooms  totalBedrooms  \\\n",
      "0    -122.23     37.88              41.0       880.0          129.0   \n",
      "1    -122.22     37.86              21.0      7099.0         1106.0   \n",
      "2    -122.24     37.85              52.0      1467.0          190.0   \n",
      "3    -122.25     37.85              52.0      1274.0          235.0   \n",
      "4    -122.25     37.85              52.0      1627.0          280.0   \n",
      "\n",
      "   population  households  medianIncome  medianHouseValue  \n",
      "0       322.0       126.0        8.3252          452600.0  \n",
      "1      2401.0      1138.0        8.3014          358500.0  \n",
      "2       496.0       177.0        7.2574          352100.0  \n",
      "3       558.0       219.0        5.6431          341300.0  \n",
      "4       565.0       259.0        3.8462          342200.0  \n"
     ]
    }
   ],
   "source": [
    "headers = [x.split(\":\")[0] for x in headers]\n",
    "data.columns = headers\n",
    "print data.head(5)"
   ]
  },
  {
   "cell_type": "code",
   "execution_count": 37,
   "metadata": {},
   "outputs": [
    {
     "name": "stdout",
     "output_type": "stream",
     "text": [
      "<class 'pandas.core.frame.DataFrame'>\n",
      "RangeIndex: 20640 entries, 0 to 20639\n",
      "Data columns (total 9 columns):\n",
      "longitude           20640 non-null float64\n",
      "latitude            20640 non-null float64\n",
      "housingMedianAge    20640 non-null float64\n",
      "totalRooms          20640 non-null float64\n",
      "totalBedrooms       20640 non-null float64\n",
      "population          20640 non-null float64\n",
      "households          20640 non-null float64\n",
      "medianIncome        20640 non-null float64\n",
      "medianHouseValue    20640 non-null float64\n",
      "dtypes: float64(9)\n",
      "memory usage: 1.4 MB\n",
      "None\n"
     ]
    }
   ],
   "source": [
    "print data.info()"
   ]
  },
  {
   "cell_type": "code",
   "execution_count": 36,
   "metadata": {},
   "outputs": [
    {
     "name": "stdout",
     "output_type": "stream",
     "text": [
      "          longitude      latitude  housingMedianAge    totalRooms  \\\n",
      "count  20640.000000  20640.000000      20640.000000  20640.000000   \n",
      "mean    -119.569704     35.631861         28.639486   2635.763081   \n",
      "std        2.003532      2.135952         12.585558   2181.615252   \n",
      "min     -124.350000     32.540000          1.000000      2.000000   \n",
      "25%     -121.800000     33.930000         18.000000   1447.750000   \n",
      "50%     -118.490000     34.260000         29.000000   2127.000000   \n",
      "75%     -118.010000     37.710000         37.000000   3148.000000   \n",
      "max     -114.310000     41.950000         52.000000  39320.000000   \n",
      "\n",
      "       totalBedrooms    population    households  medianIncome  \\\n",
      "count   20640.000000  20640.000000  20640.000000  20640.000000   \n",
      "mean      537.898014   1425.476744    499.539680      3.870671   \n",
      "std       421.247906   1132.462122    382.329753      1.899822   \n",
      "min         1.000000      3.000000      1.000000      0.499900   \n",
      "25%       295.000000    787.000000    280.000000      2.563400   \n",
      "50%       435.000000   1166.000000    409.000000      3.534800   \n",
      "75%       647.000000   1725.000000    605.000000      4.743250   \n",
      "max      6445.000000  35682.000000   6082.000000     15.000100   \n",
      "\n",
      "       medianHouseValue  \n",
      "count      20640.000000  \n",
      "mean      206855.816909  \n",
      "std       115395.615874  \n",
      "min        14999.000000  \n",
      "25%       119600.000000  \n",
      "50%       179700.000000  \n",
      "75%       264725.000000  \n",
      "max       500001.000000  \n"
     ]
    }
   ],
   "source": [
    "print data.describe()"
   ]
  }
 ],
 "metadata": {
  "kernelspec": {
   "display_name": "Python 2",
   "language": "python",
   "name": "python2"
  },
  "language_info": {
   "codemirror_mode": {
    "name": "ipython",
    "version": 2
   },
   "file_extension": ".py",
   "mimetype": "text/x-python",
   "name": "python",
   "nbconvert_exporter": "python",
   "pygments_lexer": "ipython2",
   "version": "2.7.12"
  }
 },
 "nbformat": 4,
 "nbformat_minor": 2
}
